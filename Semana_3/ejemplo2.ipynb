{
 "cells": [
  {
   "cell_type": "markdown",
   "id": "63e1be6f",
   "metadata": {},
   "source": [
    "# Clase 6 - Modelos texto a imagen II"
   ]
  },
  {
   "cell_type": "code",
   "execution_count": 1,
   "id": "5714209d",
   "metadata": {},
   "outputs": [],
   "source": [
    "import requests\n",
    "import os \n",
    "from dotenv import load_dotenv\n",
    "\n",
    "load_dotenv()\n",
    "\n",
    "r = requests.post('https://clipdrop-api.co/text-to-image/v1',\n",
    "  files = {\n",
    "      'prompt': (None, 'foto realista de una cara de un hombre sonriendo ampliamente sin haberse afeitado y pelo corto, tez blanca y ojos azules', 'text/plain')\n",
    "  },\n",
    "  headers = { 'x-api-key': os.getenv('CLIP_API_KEY')}\n",
    ")\n",
    "\n",
    "if (r.ok):\n",
    "  with open('output.png', 'wb') as f:\n",
    "      f.write(r.content)\n",
    "else:\n",
    "  print(r.raise_for_status())"
   ]
  },
  {
   "cell_type": "code",
   "execution_count": 5,
   "id": "dca2fcf4",
   "metadata": {},
   "outputs": [
    {
     "name": "stdout",
     "output_type": "stream",
     "text": [
      "La imagen muestra manos en primer plano. Una mano, con una superposición de bosque denso, sostiene tierra con una pequeña planta verde creciendo directamente fuera de ella. La base de la planta tiene varias raíces visibles. Las manos de otra persona se extienden para recibir lo que está siendo presentado. El fondo es un bokeh verde y amarillo, probablemente follaje fuera de foco, y crea un ambiente cálido y natural. Los colores de las manos superpuestas son principalmente exuberantes tonos de verde con toques de marrón, insinuando salud y crecimiento. Esta imagen es rica en simbolismo, posiblemente representando cuidado, sostenibilidad ambiental o cultivo de nuevas ideas.\n"
     ]
    }
   ],
   "source": [
    "from openai import OpenAI\n",
    "import os\n",
    "from dotenv import load_dotenv\n",
    "\n",
    "load_dotenv(dotenv_path=\"../.env\")\n",
    "client = OpenAI(\n",
    "    base_url=\"https://openrouter.ai/api/v1\",\n",
    "    api_key=os.getenv(\"OR_API_KEY\")\n",
    "    )\n",
    "\n",
    "completion = client.chat.completions.create(\n",
    "  extra_headers={\n",
    "    \"HTTP-Referer\": \"<YOUR_SITE_URL>\", # Optional. Site URL for rankings on openrouter.ai.\n",
    "    \"X-Title\": \"<YOUR_SITE_NAME>\", # Optional. Site title for rankings on openrouter.ai.\n",
    "  },\n",
    "  extra_body={},\n",
    "  model=\"google/gemini-2.0-flash-exp:free\",\n",
    "  messages=[\n",
    "    {\n",
    "      \"role\": \"user\",\n",
    "      \"content\": [\n",
    "        {\n",
    "          \"type\": \"text\",\n",
    "          #\"text\": \"Describir al mayor detalle la imagen con patente. modelo del auto, etc\"\n",
    "          \"text\": \"Describir al mayor detalle la imagen\"\n",
    "        },\n",
    "        {\n",
    "          \"type\": \"image_url\",\n",
    "          \"image_url\": {\n",
    "           # \"url\": \"https://www.clarin.com/img/2024/10/05/B9CttXYQX_2000x1500__1.jpg\"\n",
    "           #\"url\": \"https://media.c5n.com/p/2f8e7db82718e5e4ce277459795d7653/adjuntos/326/imagenes/000/190/0000190067/790x0/smart/tapar-patente.png\"\n",
    "           \"url\": \"https://www.lapaginaverdedigital.com.co/wp-content/uploads/2024/10/Screenshot_6.png\"\n",
    "          }\n",
    "        }\n",
    "      ]\n",
    "    }\n",
    "  ]\n",
    ")\n",
    "print(completion.choices[0].message.content)\n"
   ]
  },
  {
   "cell_type": "code",
   "execution_count": null,
   "id": "fd49e1fb",
   "metadata": {},
   "outputs": [],
   "source": []
  }
 ],
 "metadata": {
  "kernelspec": {
   "display_name": "base",
   "language": "python",
   "name": "python3"
  },
  "language_info": {
   "codemirror_mode": {
    "name": "ipython",
    "version": 3
   },
   "file_extension": ".py",
   "mimetype": "text/x-python",
   "name": "python",
   "nbconvert_exporter": "python",
   "pygments_lexer": "ipython3",
   "version": "3.12.7"
  }
 },
 "nbformat": 4,
 "nbformat_minor": 5
}
