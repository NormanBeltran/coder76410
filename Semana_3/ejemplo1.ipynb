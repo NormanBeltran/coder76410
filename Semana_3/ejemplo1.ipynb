{
 "cells": [
  {
   "cell_type": "markdown",
   "id": "a3c3e5b0",
   "metadata": {},
   "source": [
    "# Clase 5 - Modelos de texto a imagen"
   ]
  },
  {
   "cell_type": "code",
   "execution_count": 3,
   "id": "9ee977f0",
   "metadata": {},
   "outputs": [
    {
     "name": "stdout",
     "output_type": "stream",
     "text": [
      "El jugo de naranja, **un sol líquido atrapado en un vaso, prometía una mañana radiante, aunque la lluvia golpeaba el cristal con insistencia, recordándome que incluso el optimismo más cítrico puede ser empapado por la melancolía.**\n",
      "\n"
     ]
    }
   ],
   "source": [
    "from google import genai\n",
    "import os\n",
    "from dotenv import load_dotenv\n",
    "\n",
    "load_dotenv(dotenv_path=\"../.env\")\n",
    "client = genai.Client(api_key=os.getenv(\"GEMINI_API_KEY\"))\n",
    "\n",
    "frase_incompleta = input(\"Escribí una frase inconclusa: \")\n",
    "\n",
    "response = client.models.generate_content(\n",
    "    model = \"gemini-1.5-flash\",\n",
    "    contents = f\"Completá esta frase de forma coherente y creativa: '{frase_incompleta}'\"\n",
    ")\n",
    "\n",
    "print(response.text)\n"
   ]
  },
  {
   "cell_type": "code",
   "execution_count": 7,
   "id": "dc8c305e",
   "metadata": {},
   "outputs": [],
   "source": [
    "from openai import OpenAI\n",
    "import os\n",
    "from dotenv import load_dotenv\n",
    "import requests\n",
    "\n",
    "# Para poder bajar la imagen a disco deben instalar requests con: pip install requests\n",
    "\n",
    "load_dotenv(dotenv_path=\"../.env\")\n",
    "client = OpenAI(api_key=os.getenv(\"OPENAI_API_KEY\"))\n",
    "\n",
    "prompt = input(\"Describi la imagen que querés generar: \")\n",
    "\n",
    "response = client.images.generate(\n",
    "    model=\"dall-e-3\",\n",
    "    prompt=prompt,\n",
    "    n=1,\n",
    "    size=\"1024x1024\"\n",
    ")\n",
    "\n",
    "image_url = response.data[0].url\n",
    "#print(f\"Imagen generada: {image_url}\")\n",
    "\n",
    "# Descargar la imagen\n",
    "img_data = requests.get(image_url).content\n",
    "with open(\"imagen_generada.png\", \"wb\") as handler:\n",
    "    handler.write(img_data)\n"
   ]
  },
  {
   "cell_type": "code",
   "execution_count": 8,
   "id": "9237afd0",
   "metadata": {},
   "outputs": [
    {
     "name": "stdout",
     "output_type": "stream",
     "text": [
      "[0, 1, 1, 2, 3, 5, 8, 13, 21, 34]\n"
     ]
    }
   ],
   "source": [
    "def fibonacci(n):\n",
    "    serie = [0, 1]\n",
    "    while len(serie) < n:\n",
    "        serie.append(serie[-1] + serie[-2])\n",
    "    return serie\n",
    "\n",
    "print(fibonacci(10))"
   ]
  },
  {
   "cell_type": "code",
   "execution_count": 9,
   "id": "0fe7ac63",
   "metadata": {},
   "outputs": [
    {
     "name": "stdout",
     "output_type": "stream",
     "text": [
      "Imagen guardada como imagen.png\n"
     ]
    }
   ],
   "source": [
    "from openai import OpenAI\n",
    "import os\n",
    "from dotenv import load_dotenv\n",
    "import requests\n",
    "\n",
    "def generar_imagen(prompt, nombre_archivo=\"imagen.png\"):\n",
    "    load_dotenv(dotenv_path=\"../.env\")\n",
    "    client = OpenAI(api_key=os.getenv(\"OPENAI_API_KEY\"))\n",
    "\n",
    "    response = client.images.generate(\n",
    "        model=\"dall-e-3\",\n",
    "        prompt=prompt,\n",
    "        n=1,\n",
    "        size=\"1024x1024\"\n",
    "    )\n",
    "\n",
    "    image_url = response.data[0].url\n",
    "    img_data = requests.get(image_url).content\n",
    "    with open(nombre_archivo, \"wb\") as handler:\n",
    "        handler.write(img_data)\n",
    "    print(f\"Imagen guardada como {nombre_archivo}\")\n",
    "\n",
    "# Ejemplo de uso:\n",
    "prompt = \"crea un dibujo de un chico jugando con su caniche en New York en el siglo XIX\"\n",
    "generar_imagen(prompt)"
   ]
  }
 ],
 "metadata": {
  "kernelspec": {
   "display_name": "base",
   "language": "python",
   "name": "python3"
  },
  "language_info": {
   "codemirror_mode": {
    "name": "ipython",
    "version": 3
   },
   "file_extension": ".py",
   "mimetype": "text/x-python",
   "name": "python",
   "nbconvert_exporter": "python",
   "pygments_lexer": "ipython3",
   "version": "3.12.7"
  }
 },
 "nbformat": 4,
 "nbformat_minor": 5
}
