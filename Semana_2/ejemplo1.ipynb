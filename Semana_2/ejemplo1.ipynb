{
 "cells": [
  {
   "cell_type": "markdown",
   "id": "82b8a458-d60a-4100-ae21-b35513438bd1",
   "metadata": {},
   "source": [
    "# Clase 2 \n",
    "\n",
    "## Sumarización / API KEYs\n",
    "\n",
    "1. Modelos de Atención\n",
    "2. Tokenización\n",
    "3. Contextualización\n",
    "4. Transfer Learning\n",
    "\n",
    "Los modelos de atención estan basados en redes neuronales llamados **Transformers**\n",
    "\n",
    "\n",
    "Para poder ejecutar los ejemplos deben instalarse las siguientes librerias:\n",
    "\n",
    "1. pip install python-dotenv\n",
    "2. pip install openai --upgrade\n",
    "3. pip install google-genai\n",
    "\n",
    "\n",
    "Setear en un archivo .env las siguientes variables:\n",
    "\n",
    "OPENAI_API_KEY \n",
    "GEMINI_API_KEY \n",
    "\n",
    "## Ejemplo con OPEN AI"
   ]
  },
  {
   "cell_type": "code",
   "execution_count": null,
   "id": "ba0a466c-52b1-42ac-97ba-5565fa72de00",
   "metadata": {},
   "outputs": [],
   "source": [
    "from openai import OpenAI\n",
    "import os \n",
    "from dotenv import load_dotenv\n",
    "\n",
    "load_dotenv()\n",
    "\n",
    "client = OpenAI(api_key=os.getenv(\"OPENAI_API_KEY\"))\n",
    "\n",
    "texto_largo = \"\"\"\n",
    "En cuanto al consumo, si el consumo alcanza la cifra de 380 huevos per cápita durante 2025, eso superaría al 2023, cuando el promedio fue de 363. De acuerdo a las estimaciones de Capia, estos datos posicionan a Argentina como el segundo mayor consumidor mundial de huevos, solo superado por México y por delante de Colombia.\n",
    "Un huevo mediano aporta alrededor de 6 gramos de proteína, 5 gramos de grasa y unas 75 kilocalorías.\n",
    "Tasat agregó a Infobae: “La clara es la fuente de albúmina, que es de excelente calidad nutricional. La yema contiene grasas insaturadas y saturadas, además de colina, vitamina A y vitamina D. El huevo es uno de los pocos alimentos naturales que aportan vitamina D, un nutriente que suele encontrarse en déficit en los análisis de laboratorio\".\n",
    "El médico nutricionista Alberto Cormillot, especialista en obesidad, señaló en Infobae que el huevo no aumenta el colesterol peligrosamente, como se creyó durante muchos años, y dijo que su ingesta es beneficiosa en el marco de una dieta equilibrada, salvo que exista alguna contraindicación médica específica.\n",
    "El huevo es un alimento que sirve para muchas preparaciones, pero también es un excelente alimento porque tiene proteínas de primera calidad y tiene grasas buenas. Es que estas grasas, que son más valen, son protectoras de las arterias, tienen vitaminas y tiene dos elementos: la luteína y la zeaxantina, detalló Cormillot.\n",
    "\"\"\"\n",
    "\n",
    "respuesta = client.responses.create(\n",
    "    model = \"gpt-4o-mini\", \n",
    "    input = f\"Dame un resumen de no mas de 100 palabras del siguiente texto: {texto_largo}\"\n",
    ")    \n",
    "\n",
    "print(respuesta.output_text)"
   ]
  },
  {
   "cell_type": "markdown",
   "id": "b9698901-988d-4c74-b9a2-7379b10cb803",
   "metadata": {},
   "source": [
    "## Ejemplo con GEMINI"
   ]
  },
  {
   "cell_type": "code",
   "execution_count": 19,
   "id": "347265c5-00ca-412d-a6d6-1699f3cae2a2",
   "metadata": {},
   "outputs": [
    {
     "name": "stdout",
     "output_type": "stream",
     "text": [
      "Argentina podría alcanzar 380 huevos per cápita en 2025, el segundo consumo mundial. Aportan proteína de alta calidad, grasas buenas (arteria-protectoras), vitamina D y antioxidantes como luteína. Expertos desmienten que eleven el colesterol peligrosamente, confirmando sus beneficios nutricionales dentro de una dieta equilibrada, salvo contraindicación médica específica.\n"
     ]
    }
   ],
   "source": [
    "from openai import OpenAI\n",
    "import os \n",
    "from dotenv import load_dotenv\n",
    "\n",
    "load_dotenv()\n",
    "\n",
    "client = OpenAI(\n",
    "    api_key = os.getenv(\"GEMINI_API_KEY\"),\n",
    "    base_url = \"https://generativelanguage.googleapis.com/v1beta/openai/\"\n",
    ")\n",
    "\n",
    "texto_largo = \"\"\"\n",
    "En cuanto al consumo, si el consumo alcanza la cifra de 380 huevos per cápita durante 2025, eso superaría al 2023, cuando el promedio fue de 363. De acuerdo a las estimaciones de Capia, estos datos posicionan a Argentina como el segundo mayor consumidor mundial de huevos, solo superado por México y por delante de Colombia.\n",
    "Un huevo mediano aporta alrededor de 6 gramos de proteína, 5 gramos de grasa y unas 75 kilocalorías.\n",
    "Tasat agregó a Infobae: “La clara es la fuente de albúmina, que es de excelente calidad nutricional. La yema contiene grasas insaturadas y saturadas, además de colina, vitamina A y vitamina D. El huevo es uno de los pocos alimentos naturales que aportan vitamina D, un nutriente que suele encontrarse en déficit en los análisis de laboratorio\".\n",
    "El médico nutricionista Alberto Cormillot, especialista en obesidad, señaló en Infobae que el huevo no aumenta el colesterol peligrosamente, como se creyó durante muchos años, y dijo que su ingesta es beneficiosa en el marco de una dieta equilibrada, salvo que exista alguna contraindicación médica específica.\n",
    "El huevo es un alimento que sirve para muchas preparaciones, pero también es un excelente alimento porque tiene proteínas de primera calidad y tiene grasas buenas. Es que estas grasas, que son más valen, son protectoras de las arterias, tienen vitaminas y tiene dos elementos: la luteína y la zeaxantina, detalló Cormillot.\n",
    "\"\"\"\n",
    "\n",
    "respuesta = client.chat.completions.create(\n",
    "    model = \"gemini-2.5-flash\",\n",
    "    messages = [\n",
    "        {\"role\": \"system\", \"content\": \"Eres un asistente útil y conciso que sabe resumir textos\"},\n",
    "        {\"role\": \"user\", \"content\": f\"Resumi el siguiente texto en 50 palabras: {texto_largo}\"}\n",
    "    ]\n",
    ")    \n",
    "\n",
    "print(respuesta.choices[0].message.content)\n"
   ]
  },
  {
   "cell_type": "code",
   "execution_count": null,
   "id": "7dc081c2-0d1f-4db7-9f5d-3395a19146b7",
   "metadata": {},
   "outputs": [],
   "source": []
  }
 ],
 "metadata": {
  "kernelspec": {
   "display_name": "Python [conda env:base] *",
   "language": "python",
   "name": "conda-base-py"
  },
  "language_info": {
   "codemirror_mode": {
    "name": "ipython",
    "version": 3
   },
   "file_extension": ".py",
   "mimetype": "text/x-python",
   "name": "python",
   "nbconvert_exporter": "python",
   "pygments_lexer": "ipython3",
   "version": "3.12.7"
  }
 },
 "nbformat": 4,
 "nbformat_minor": 5
}
