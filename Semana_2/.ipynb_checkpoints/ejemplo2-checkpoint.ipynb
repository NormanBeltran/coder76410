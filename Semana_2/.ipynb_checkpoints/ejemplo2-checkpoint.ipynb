{
 "cells": [
  {
   "cell_type": "markdown",
   "id": "00f80fb2-36d2-45bb-964b-8d230afeb760",
   "metadata": {},
   "source": [
    "# Clase 4\n",
    "\n",
    "## Ejemplo con GEMINI"
   ]
  },
  {
   "cell_type": "code",
   "execution_count": 5,
   "id": "2d9a51f0-ad8e-4c03-99e7-286ef08839ab",
   "metadata": {},
   "outputs": [
    {
     "name": "stdout",
     "output_type": "stream",
     "text": [
      "¡Claro! Roma es una ciudad increíble con muchísimos lugares para visitar. Aquí te dejo una lista de los mejores lugares turísticos, clasificados para que puedas organizar tu viaje:\n",
      "\n",
      "**Imprescindibles (No te los puedes perder):**\n",
      "\n",
      "*   **El Coliseo:** El anfiteatro más grande del mundo, símbolo de la antigua Roma. Reserva tus entradas con antelación para evitar largas colas.\n",
      "*   **Foro Romano y Monte Palatino:** El corazón de la antigua Roma, donde se encontraban templos, basílicas, y edificios gubernamentales.\n",
      "*   **Ciudad del Vaticano:**\n",
      "    *   **Basílica de San Pedro:** Una de las iglesias más grandes del mundo, con impresionantes obras de arte y la tumba de San Pedro.\n",
      "    *   **Museos Vaticanos y Capilla Sixtina:** Albergan una vasta colección de arte, incluyendo los famosos frescos de Miguel Ángel en la Capilla Sixtina.\n",
      "*   **Fontana di Trevi:** La fuente barroca más famosa del mundo, donde puedes lanzar una moneda para asegurar tu regreso a Roma.\n",
      "*   **Panteón:** Un antiguo templo romano, con una cúpula impresionante y un agujero en el techo (óculo) que permite la entrada de la luz natural.\n",
      "*   **Plaza Navona:** Una plaza barroca con fuentes impresionantes, incluyendo la Fuente de los Cuatro Ríos de Bernini.\n",
      "*   **Escalinata de la Plaza de España:** Una famosa escalera que conecta la Plaza de España con la Iglesia de Trinità dei Monti.\n",
      "\n",
      "**A destacar (Si tienes tiempo):**\n",
      "\n",
      "*   **Castillo Sant'Angelo:** Un antiguo mausoleo transformado en fortaleza, con vistas panorámicas de la ciudad.\n",
      "*   **Galería Borghese y Jardines Borghese:** Alberga una impresionante colección de esculturas y pinturas de Bernini y Caravaggio. Los jardines son perfectos para un paseo relajante.\n",
      "*   **Trastevere:** Un barrio bohemio con calles adoquinadas, restaurantes con encanto y una animada vida nocturna.\n",
      "*   **Foro Trajano y Columnata Trajana:** Un complejo arquitectónico que incluye el foro más grande de Roma, la columna con relieves de Trajano y los Mercados de Trajano.\n",
      "*   **Termas de Caracalla:** Importantes ruinas de baños termales de la antigua Roma.\n",
      "*   **Basílica de San Juan de Letrán:** La catedral de Roma y la iglesia más antigua y de mayor rango de la cristiandad.\n",
      "*   **El Gueto Judío:** Uno de los barrios más antiguos de Roma, con una rica historia y deliciosa gastronomía.\n",
      "*   **Mausoleo de Augusto:** El mayor monumento funerario circular del mundo, que muestra la grandeza del emperador Augusto.\n",
      "\n",
      "**Consejos para planificar tu viaje:**\n",
      "\n",
      "*   **Reserva con anticipación:** Especialmente para el Coliseo, los Museos Vaticanos y la Galería Borghese. Las entradas suelen agotarse rápidamente.\n",
      "*   **Considera la Roma Pass:** Esta tarjeta turística puede ofrecerte acceso gratuito a algunos museos y transporte público ilimitado.\n",
      "*   **Elige el alojamiento adecuado:** Considera la cercanía a las atracciones turísticas y las opciones de transporte público.\n",
      "*   **Utiliza el transporte público:** Roma tiene un buen sistema de metro y autobuses.\n",
      "*   **Camina:** Roma es una ciudad para caminar y explorar sus rincones.\n",
      "*   **Disfruta de la comida:** Prueba la pasta, la pizza, el gelato y los vinos locales.\n",
      "*   **Cuidado con los carteristas:** Presta atención a tus pertenencias en lugares concurridos.\n",
      "*   **Clima:** El verano puede ser muy caluroso, mientras que el invierno puede ser lluvioso. La primavera y el otoño son las mejores épocas para visitar.\n",
      "*   **Idioma:** Aprender algunas frases básicas en italiano puede ser útil.\n",
      "*   **Propinas:** No es obligatorio, pero es costumbre dejar propina en restaurantes y bares.\n",
      "\n",
      "Espero que esta lista te sea útil para planificar tu viaje a Roma. ¡Disfruta de tu viaje!\n"
     ]
    }
   ],
   "source": [
    "from google import genai\n",
    "import os\n",
    "from dotenv import load_dotenv\n",
    "\n",
    "load_dotenv()\n",
    "\n",
    "client = genai.Client(api_key=os.getenv(\"GEMINI_API_KEY\"))\n",
    "\n",
    "response = client.models.generate_content(\n",
    "    model = \"gemini-2.0-flash-lite\",\n",
    "    contents = \"Recomendame los mejores lugares turisticos para mi viaje a Roma\"\n",
    ")\n",
    "\n",
    "print(response.text)"
   ]
  },
  {
   "cell_type": "markdown",
   "id": "988b067f-bd72-4e37-bf8b-d0fc589d28bc",
   "metadata": {},
   "source": [
    "## Ejercicio en clase\n",
    "\n",
    "- Modificar el programa anterior para solicitar la ciudad a visitar al usuario\n",
    "- Y limitar a que nos recomiende los 3 mejores lugares de dicha ciudad.\n",
    "\n"
   ]
  },
  {
   "cell_type": "code",
   "execution_count": 17,
   "id": "08cd7f7d-3f79-47f0-8734-2f8a4387743e",
   "metadata": {},
   "outputs": [
    {
     "name": "stdout",
     "output_type": "stream",
     "text": [
      "assistant\n",
      "Invertir en criptomonedas puede ser emocionante pero también arriesgado. Aquí algunas recomendaciones:\n",
      "\n",
      "1. **Diversificación**: No inviertas todo tu capital en una sola criptomoneda. Considera diversificar entre Bitcoin (BTC), Ethereum (ETH) y otras altcoins prometedoras como Cardano (ADA) o Solana (SOL).\n",
      "\n",
      "2. **Investigación**: Antes de invertir, investiga sobre el proyecto, su equipo, la tecnología detrás y la comunidad. Proyectos sólidos suelen tener una hoja de ruta clara y una comunidad activa.\n",
      "\n",
      "3. **Proteger tu inversión**: Utiliza billeteras seguras (hardware wallets) y habilita la autenticación en dos factores (2FA) en los intercambios para proteger tus activos.\n",
      "\n",
      "4. **Inversión a largo plazo**: Considera el enfoque de \"HODL\" (mantener) en lugar de realizar transacciones diarias. La volatilidad puede ser alta, pero el crecimiento a largo plazo ha sido notable.\n",
      "\n",
      "5. **Mantente informado**: Sigue las noticias del mercado y los desarrollos regulatorios que puedan afectar las criptomonedas.\n",
      "\n",
      "6. **Presupuesto**: Solo invierte lo que puedas permitirte perder. Las criptomonedas pueden ser volátiles y no son adecuadas para todos los inversores.\n",
      "\n",
      "Recuerda que la inversión en criptomonedas implica riesgos, así que actúa con cautela.\n"
     ]
    }
   ],
   "source": [
    "from openai import OpenAI\n",
    "import os\n",
    "from dotenv  import load_dotenv   # pip install python-dotenv\n",
    "load_dotenv()\n",
    "\n",
    "client = OpenAI(api_key=os.getenv(\"OPENAI_API_KEY\"))\n",
    "\n",
    "conversation = [\n",
    "{ \"role\": \"system\", \"content\": \"Eres un experto en finanzas\" },\n",
    "{ \"role\": \"user\", \"content\": \"Dame recomendaciones de inversiones en criptomonedas en no mas de 200 palabras\" },\n",
    "]\n",
    "\n",
    "response = client.chat.completions.create(\n",
    "    model = \"gpt-4o-mini\",\n",
    "    messages = conversation,\n",
    "    max_tokens = 400,\n",
    "    temperature = 0.9 # A mayor cercania de 1 mas creativa sera la respuesta que me dara el modelo\n",
    ")\n",
    "\n",
    "message = response.choices[0].message\n",
    "print(message.role)\n",
    "print(message.content)\n",
    "\n"
   ]
  },
  {
   "cell_type": "code",
   "execution_count": 19,
   "id": "44d06c7a-b3b3-4e97-98ab-960e956e17da",
   "metadata": {},
   "outputs": [
    {
     "name": "stdout",
     "output_type": "stream",
     "text": [
      "Personal Trainer: Hola, soy tu entrenador personal ¿En que te puedo ayudar hoy?  (fin para terminar la conversación)\n"
     ]
    },
    {
     "name": "stdin",
     "output_type": "stream",
     "text": [
      "Tú:  tengo 50 años, y quiero empezar a hacer ejercicios, que me recomiendas?\n"
     ]
    },
    {
     "name": "stdout",
     "output_type": "stream",
     "text": [
      "Personal Trainer: ¡Genial que quieras comenzar! Aquí tienes algunos consejos:\n",
      "\n",
      "1. Consulta a un médico antes de iniciar cualquier programa de ejercicios.\n",
      "2. Comienza con ejercicios de bajo impacto, como caminar, nadar o andar en bicicleta.\n",
      "3. Incorpora entrenamiento de fuerza dos veces por semana para mejorar tu masa muscular.\n",
      "4. Flexibilidad: incluye estiramientos y yoga para mejorar la movilidad.\n",
      "5. Escucha a tu cuerpo y no te sobrecargues. Aumenta la intensidad\n"
     ]
    },
    {
     "name": "stdin",
     "output_type": "stream",
     "text": [
      "Tú:  barbaro, cuanto tiempo me recomiendas de caminata, y cuantas veces por semana?\n"
     ]
    },
    {
     "name": "stdout",
     "output_type": "stream",
     "text": [
      "Personal Trainer: Comienza caminando de 20 a 30 minutos, 3 a 5 veces por semana. A medida que te sientas más cómodo, incrementa gradualmente el tiempo hasta 45 minutos. Lo importante es mantener una intensidad moderada, donde puedas hablar pero no cantar. ¡Disfruta del proceso!\n"
     ]
    },
    {
     "name": "stdin",
     "output_type": "stream",
     "text": [
      "Tú:  a mi edad me recomiendas caminar, nadar y andar en bicicleta en un mismo dia?\n"
     ]
    },
    {
     "name": "stdout",
     "output_type": "stream",
     "text": [
      "Personal Trainer: No es necesario hacer todas esas actividades en un mismo día. Alterna tus ejercicios para evitar el sobreesfuerzo. Puedes caminar un día, nadar al siguiente y andar en bicicleta otro. Empieza con 30-45 minutos de una actividad y aumenta gradualmente. Escucha a tu cuerpo y descansa cuando lo necesites. ¡La variedad es clave para mantener la motivación!\n"
     ]
    },
    {
     "name": "stdin",
     "output_type": "stream",
     "text": [
      "Tú:  y que mas me podrias decir de la recomendacion del punto 4 de tus consejos?\n"
     ]
    },
    {
     "name": "stdout",
     "output_type": "stream",
     "text": [
      "Personal Trainer: Para mejorar la flexibilidad, considera estos puntos:\n",
      "\n",
      "1. **Estiramientos**: Dedica al menos 10 minutos después de cada sesión de entrenamiento para estirar todos los grupos musculares.\n",
      "2. **Yoga o Pilates**: Estos son excelentes para aumentar la flexibilidad y mejorar la movilidad articular.\n",
      "3. **Frecuencia**: Realiza estiramientos o clases de yoga al menos 2-3 veces por semana.\n",
      "4. **Técnica**: Asegú\n"
     ]
    },
    {
     "name": "stdin",
     "output_type": "stream",
     "text": [
      "Tú:  que significa escuchar tu cuerpo?\n"
     ]
    },
    {
     "name": "stdout",
     "output_type": "stream",
     "text": [
      "Personal Trainer: Escuchar tu cuerpo significa prestar atención a las señales que te envía. Esto incluye:\n",
      "\n",
      "1. **Fatiga**: Si sientes un cansancio extremo, es mejor descansar.\n",
      "2. **Dolor**: Distingue entre el malestar normal y el dolor agudo. Si sientes dolor, detente y evalúa.\n",
      "3. **Ritmo cardíaco**: Un aumento excesivo puede indicar que necesitas reducir la intensidad.\n",
      "4. **Estado emocional**: Si te\n"
     ]
    },
    {
     "name": "stdin",
     "output_type": "stream",
     "text": [
      "Tú:  fin\n"
     ]
    },
    {
     "name": "stdout",
     "output_type": "stream",
     "text": [
      "¡Hasta luego! Recorda que siempre podes lograr lo que te propones\n"
     ]
    }
   ],
   "source": [
    "from openai import OpenAI\n",
    "import os\n",
    "from dotenv  import load_dotenv   # pip install python-dotenv\n",
    "load_dotenv()\n",
    "\n",
    "client = OpenAI(api_key=os.getenv(\"OPENAI_API_KEY\"))\n",
    "\n",
    "conversation = [\n",
    "{ \"role\": \"system\", \"content\": \"Eres un personal trainer, que da consejos de manera concisa y en no mas de 100 palabras\" },\n",
    "]\n",
    "\n",
    "print(\"Personal Trainer: Hola, soy tu entrenador personal ¿En que te puedo ayudar hoy?  (fin para terminar la conversación)\")\n",
    "\n",
    "while True:\n",
    "    user_input = input(\"Tú: \")\n",
    "    if user_input.lower() == \"fin\":\n",
    "        print(\"¡Hasta luego! Recorda que siempre podes lograr lo que te propones\")\n",
    "        break\n",
    "        \n",
    "    conversation.append({\"role\": \"user\", \"content\": user_input})\n",
    "    response = client.chat.completions.create(\n",
    "        model = \"gpt-4o-mini\",\n",
    "        messages = conversation,\n",
    "        max_tokens = 100,\n",
    "        temperature = 0.9 # A mayor cercania de 1 mas creativa sera la respuesta que me dara el modelo\n",
    "    )\n",
    "\n",
    "    message = response.choices[0].message\n",
    "    \n",
    "    print(f\"Personal Trainer: {message.content}\")\n",
    "    conversation.append({\"role\": \"assistant\", \"content\": message.content})\n"
   ]
  },
  {
   "cell_type": "markdown",
   "id": "6ca10b08-983f-4695-9bfb-bbd5ae69ae59",
   "metadata": {},
   "source": [
    "### Ejercicio en clase\n",
    "\n",
    "- Crear una conversacion con un rol elegido\n",
    "- Y detallar la conversacion con dicho rol como clientes / usuarios de la actividad del rol"
   ]
  },
  {
   "cell_type": "code",
   "execution_count": null,
   "id": "ba87276f-bc97-4607-a830-b0d222e5cb97",
   "metadata": {},
   "outputs": [],
   "source": []
  }
 ],
 "metadata": {
  "kernelspec": {
   "display_name": "Python [conda env:base] *",
   "language": "python",
   "name": "conda-base-py"
  },
  "language_info": {
   "codemirror_mode": {
    "name": "ipython",
    "version": 3
   },
   "file_extension": ".py",
   "mimetype": "text/x-python",
   "name": "python",
   "nbconvert_exporter": "python",
   "pygments_lexer": "ipython3",
   "version": "3.12.7"
  }
 },
 "nbformat": 4,
 "nbformat_minor": 5
}
